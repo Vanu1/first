{
  "nbformat": 4,
  "nbformat_minor": 0,
  "metadata": {
    "colab": {
      "name": "mnist-sign.ipynb",
      "provenance": [],
      "collapsed_sections": [],
      "authorship_tag": "ABX9TyP4nT6CQ7nC8HuiykHFq25h",
      "include_colab_link": true
    },
    "kernelspec": {
      "name": "python3",
      "display_name": "Python 3"
    },
    "accelerator": "GPU"
  },
  "cells": [
    {
      "cell_type": "markdown",
      "metadata": {
        "id": "view-in-github",
        "colab_type": "text"
      },
      "source": [
        "<a href=\"https://colab.research.google.com/github/Vanu1/first/blob/master/mnist_sign.ipynb\" target=\"_parent\"><img src=\"https://colab.research.google.com/assets/colab-badge.svg\" alt=\"Open In Colab\"/></a>"
      ]
    },
    {
      "cell_type": "code",
      "metadata": {
        "id": "hlMiY6OZpapH",
        "colab_type": "code",
        "colab": {
          "base_uri": "https://localhost:8080/",
          "height": 33
        },
        "outputId": "7fb57a53-1331-4262-ef6c-3db1d9301a8f"
      },
      "source": [
        "import os\n",
        "import numpy as np\n",
        "import tensorflow as tf\n",
        "import cv2\n",
        "import matplotlib.pyplot as plt\n",
        "from keras.utils import np_utils\n"
      ],
      "execution_count": 2,
      "outputs": [
        {
          "output_type": "stream",
          "text": [
            "Using TensorFlow backend.\n"
          ],
          "name": "stderr"
        }
      ]
    },
    {
      "cell_type": "code",
      "metadata": {
        "id": "51ENtmp2pzBo",
        "colab_type": "code",
        "colab": {}
      },
      "source": [
        "import tensorflow_datasets as tfds"
      ],
      "execution_count": 3,
      "outputs": []
    },
    {
      "cell_type": "code",
      "metadata": {
        "id": "cmtJrlzHrw29",
        "colab_type": "code",
        "colab": {
          "base_uri": "https://localhost:8080/",
          "height": 50
        },
        "outputId": "0adef1fb-c829-40fb-a363-e5318abca824"
      },
      "source": [
        "(x_train,y_train),(x_test,y_test)=tf.keras.datasets.mnist.load_data(path='mnist.npz')"
      ],
      "execution_count": 4,
      "outputs": [
        {
          "output_type": "stream",
          "text": [
            "Downloading data from https://storage.googleapis.com/tensorflow/tf-keras-datasets/mnist.npz\n",
            "11493376/11490434 [==============================] - 0s 0us/step\n"
          ],
          "name": "stdout"
        }
      ]
    },
    {
      "cell_type": "code",
      "metadata": {
        "id": "bzS9miHNs3DG",
        "colab_type": "code",
        "colab": {
          "base_uri": "https://localhost:8080/",
          "height": 84
        },
        "outputId": "da60da35-d1e2-42d9-a858-29643680350b"
      },
      "source": [
        "print(y_train.shape)\n",
        "print(x_train.shape)\n",
        "print(x_test.shape)\n",
        "print(y_test.shape)"
      ],
      "execution_count": 5,
      "outputs": [
        {
          "output_type": "stream",
          "text": [
            "(60000,)\n",
            "(60000, 28, 28)\n",
            "(10000, 28, 28)\n",
            "(10000,)\n"
          ],
          "name": "stdout"
        }
      ]
    },
    {
      "cell_type": "code",
      "metadata": {
        "id": "lyqO56DUtA_h",
        "colab_type": "code",
        "colab": {
          "base_uri": "https://localhost:8080/",
          "height": 50
        },
        "outputId": "822da4fc-245e-4f11-eb29-30eb6f84e4c6"
      },
      "source": [
        "X_train=x_train.reshape(60000,28,28,1)\n",
        "# Y_train=y_train.reshape(60000,10)\n",
        "X_test =x_test.reshape(10000,28,28,1)\n",
        "# Y_test=y_test.reshape(10000,10)\n",
        "X_train = X_train / 255\n",
        "X_test= X_test/255\n",
        "Y_test=np_utils.to_categorical(y_test)\n",
        "Y_train=np_utils.to_categorical(y_train)\n",
        "print(X_train.shape)\n",
        "print(Y_train.shape)"
      ],
      "execution_count": 6,
      "outputs": [
        {
          "output_type": "stream",
          "text": [
            "(60000, 28, 28, 1)\n",
            "(60000, 10)\n"
          ],
          "name": "stdout"
        }
      ]
    },
    {
      "cell_type": "code",
      "metadata": {
        "id": "BScnaX8TvOhF",
        "colab_type": "code",
        "colab": {}
      },
      "source": [
        "from keras.layers import Dense,Flatten,Dropout,ZeroPadding2D,Input\n",
        "from keras.layers.convolutional import Conv2D,MaxPooling2D\n",
        "from keras.models import Model"
      ],
      "execution_count": 7,
      "outputs": []
    },
    {
      "cell_type": "code",
      "metadata": {
        "id": "mDOERhcZxGjg",
        "colab_type": "code",
        "colab": {}
      },
      "source": [
        "def my_model(input_shape):\n",
        "  X_input=Input(input_shape)\n",
        "  # X=ZeroPadding2D()\n",
        "  X=Conv2D(32,(5,5),strides=(1,1),input_shape=(28,28,1),activation=\"relu\")(X_input)\n",
        "  X=MaxPooling2D(pool_size=(2,2))(X)\n",
        "  X=Dropout(0.2)(X)\n",
        "  X=Flatten()(X)\n",
        "  X=Dense(128,activation=\"relu\")(X)\n",
        "  X=Dense(10,activation='softmax')(X)\n",
        "  \n",
        "  model=Model(inputs=X_input,outputs=X,name='my_model')\n",
        "\n",
        "  return model"
      ],
      "execution_count": 8,
      "outputs": []
    },
    {
      "cell_type": "code",
      "metadata": {
        "id": "6Y4vab8u07bx",
        "colab_type": "code",
        "colab": {}
      },
      "source": [
        "my_model=my_model(X_train.shape[1:])"
      ],
      "execution_count": 9,
      "outputs": []
    },
    {
      "cell_type": "code",
      "metadata": {
        "id": "s2MOVI2e1JTf",
        "colab_type": "code",
        "colab": {}
      },
      "source": [
        "my_model.compile(optimizer='adam',loss='categorical_crossentropy',metrics=['accuracy'])"
      ],
      "execution_count": 10,
      "outputs": []
    },
    {
      "cell_type": "code",
      "metadata": {
        "id": "JYVQVarF16Mp",
        "colab_type": "code",
        "colab": {
          "base_uri": "https://localhost:8080/",
          "height": 368
        },
        "outputId": "22d3b8b0-638f-4f59-d8a7-83eb80ee9a60"
      },
      "source": [
        "my_model.fit(X_train,Y_train,epochs=10,batch_size=200,verbose=2)"
      ],
      "execution_count": 11,
      "outputs": [
        {
          "output_type": "stream",
          "text": [
            "Epoch 1/10\n",
            " - 9s - loss: 0.2392 - accuracy: 0.9314\n",
            "Epoch 2/10\n",
            " - 3s - loss: 0.0705 - accuracy: 0.9790\n",
            "Epoch 3/10\n",
            " - 3s - loss: 0.0498 - accuracy: 0.9852\n",
            "Epoch 4/10\n",
            " - 3s - loss: 0.0399 - accuracy: 0.9876\n",
            "Epoch 5/10\n",
            " - 3s - loss: 0.0316 - accuracy: 0.9900\n",
            "Epoch 6/10\n",
            " - 3s - loss: 0.0263 - accuracy: 0.9918\n",
            "Epoch 7/10\n",
            " - 3s - loss: 0.0223 - accuracy: 0.9927\n",
            "Epoch 8/10\n",
            " - 3s - loss: 0.0177 - accuracy: 0.9946\n",
            "Epoch 9/10\n",
            " - 3s - loss: 0.0156 - accuracy: 0.9946\n",
            "Epoch 10/10\n",
            " - 3s - loss: 0.0150 - accuracy: 0.9953\n"
          ],
          "name": "stdout"
        },
        {
          "output_type": "execute_result",
          "data": {
            "text/plain": [
              "<keras.callbacks.callbacks.History at 0x7fdea01e7b00>"
            ]
          },
          "metadata": {
            "tags": []
          },
          "execution_count": 11
        }
      ]
    },
    {
      "cell_type": "code",
      "metadata": {
        "id": "4diiQrh32gbo",
        "colab_type": "code",
        "colab": {
          "base_uri": "https://localhost:8080/",
          "height": 84
        },
        "outputId": "99f79110-c356-426a-8c77-57456277ef16"
      },
      "source": [
        "ped=my_model.evaluate(x=X_test,y=Y_test)\n",
        "print()\n",
        "print (\"Loss = \" + str(ped[0]))\n",
        "print (\"Test Accuracy = \" + str(ped[1]))"
      ],
      "execution_count": 12,
      "outputs": [
        {
          "output_type": "stream",
          "text": [
            "10000/10000 [==============================] - 1s 114us/step\n",
            "\n",
            "Loss = 0.03058459651404701\n",
            "Test Accuracy = 0.9900000095367432\n"
          ],
          "name": "stdout"
        }
      ]
    },
    {
      "cell_type": "code",
      "metadata": {
        "id": "6YG6490r5OAW",
        "colab_type": "code",
        "colab": {
          "base_uri": "https://localhost:8080/",
          "height": 33
        },
        "outputId": "47162935-f9e6-4c20-a1f4-82b56ab8ea46"
      },
      "source": [
        "my_model.save(\"model.h5\")\n",
        "print(\"model weights saved in model.h5 file\")"
      ],
      "execution_count": 13,
      "outputs": [
        {
          "output_type": "stream",
          "text": [
            "model weights saved in model.h5 file\n"
          ],
          "name": "stdout"
        }
      ]
    },
    {
      "cell_type": "code",
      "metadata": {
        "id": "V4mtZfkZ5_zO",
        "colab_type": "code",
        "colab": {}
      },
      "source": [
        ""
      ],
      "execution_count": null,
      "outputs": []
    }
  ]
}